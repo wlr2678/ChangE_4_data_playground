{
  "nbformat": 4,
  "nbformat_minor": 0,
  "metadata": {
    "colab": {
      "name": "first_glance_own_test.ipynb",
      "provenance": [],
      "collapsed_sections": [],
      "authorship_tag": "ABX9TyPWgdw+xd4xjzGnEjmQO7IV",
      "include_colab_link": true
    },
    "kernelspec": {
      "name": "python3",
      "display_name": "Python 3.9.5 64-bit"
    },
    "language_info": {
      "name": "python",
      "version": "3.9.5"
    },
    "interpreter": {
      "hash": "99a783960045dd8fe442b0f1fd10c962eda3b149761dd89cf0825d34f9754f91"
    }
  },
  "cells": [
    {
      "cell_type": "markdown",
      "metadata": {
        "id": "view-in-github",
        "colab_type": "text"
      },
      "source": [
        "<a href=\"https://colab.research.google.com/github/wlr2678/ChangE_4_data_playground/blob/master/first_glance_own_test.ipynb\" target=\"_parent\"><img src=\"https://colab.research.google.com/assets/colab-badge.svg\" alt=\"Open In Colab\"/></a>"
      ]
    },
    {
      "cell_type": "code",
      "metadata": {
        "id": "FtZdLumu0LdL"
      },
      "source": [
        "# Install a pip package in the current Jupyter kernel\n",
        "import sys\n",
        "pip install pds4_tools\n",
        "pip install matplotlib\n",
        "pip install numpy\n",
        "pip install Pillow\n",
        "pip install colour-science\n",
        "pip install colour-demosaicing"
      ],
      "execution_count": null,
      "outputs": []
    },
    {
      "cell_type": "code",
      "metadata": {
        "id": "17zFSVC796Nx"
      },
      "source": [
        "from pds4_tools import pds4_read       # to read and inspect the data and metadata\n",
        "import matplotlib.pyplot as plt        # for plotting\n",
        "import matplotlib\n",
        "import numpy as np\n",
        "from PIL import Image\n",
        "\n",
        "import cv2 as cv # HDR tonemapping trial\n",
        "\n",
        "# for plotting in Jupyter notebooks\n",
        "# %matplotlib notebook\n",
        "# for plotting in Google Colab, inline with the cell outputs\n",
        "# %matplotlib inline\n",
        "\n",
        "from skimage import exposure\n",
        "from skimage import data, img_as_float\n",
        "import colour\n",
        "from colour.plotting import *\n",
        "import glob, os # for batch reading, processing and exporting in directories\n",
        "\n",
        "from colour_demosaicing import (\n",
        "    demosaicing_CFA_Bayer_bilinear,\n",
        "    demosaicing_CFA_Bayer_Malvar2004,\n",
        "    demosaicing_CFA_Bayer_Menon2007,\n",
        "    mosaicing_CFA_Bayer)\n",
        "\n",
        "cctf_encoding = colour.cctf_encoding\n",
        "_ = colour.utilities.filter_warnings()\n",
        "# colour.utilities.describe_environment();\n",
        "\n",
        "def read_pds(path):\n",
        "    data = pds4_read(path, quiet=True)\n",
        "    img = np.array(data[0].data)\n",
        "    img = img_as_float(img)\n",
        "    return img\n",
        "\n",
        "def debayer_img(img, CFA='RGGB'):\n",
        "    # Menon2007 yields better edges than bilinear\n",
        "    debayered = cctf_encoding(demosaicing_CFA_Bayer_Menon2007(img, CFA))\n",
        "    return debayered\n",
        "\n",
        "def stretch_img(img, percent=0.5):\n",
        "    # cf https://www.harrisgeospatial.com/docs/BackgroundStretchTypes.html\n",
        "    # Adapts for different percentages\n",
        "    p2, p98 = np.percentile(img, (0+percent, 100-percent))\n",
        "    img = exposure.rescale_intensity(img, in_range=(p2, p98))\n",
        "    return img\n",
        "\n",
        "def check_type(p): # Check PCAM image type\n",
        "    ty = p.split('_')[2].split('-')[1]\n",
        "    return ty\n",
        "\n",
        "def plot_img_and_hist(image, ty='Q', size=10,  hist=True, bins=128): # ty indicates the type of the data product\n",
        "    \"\"\"Plot an image along with its histogram.\n",
        "    \"\"\"\n",
        "    if hist:\n",
        "        fig, axes = plt.subplots(2,1, figsize=(size,size), gridspec_kw={'height_ratios': [3, 1]})\n",
        "        ax_img, ax_hist = axes\n",
        "    else:\n",
        "        fig, ax_img = plt.subplots(figsize=(size,size))\n",
        "\n",
        "    # Display image\n",
        "    ax_img.imshow(image, cmap='gray')\n",
        "    # Without axes on image\n",
        "    ax_img.set_axis_off()\n",
        "\n",
        "    if hist:\n",
        "        # Display histogram\n",
        "        if ty == 'Q': # Panchromatic\n",
        "          ax_hist.hist(image.ravel(), bins=bins, histtype='step', color='black')\n",
        "        elif ty == 'C': # Colour\n",
        "          ax_hist.hist(image[:,:,0].ravel(), bins=bins, histtype='step', color='red')\n",
        "          ax_hist.hist(image[:,:,1].ravel(), bins=bins, histtype='step', color='green')\n",
        "          ax_hist.hist(image[:,:,2].ravel(), bins=bins, histtype='step', color='blue')\n",
        "        else: # Unknown type\n",
        "          print('Image data type not recognized')\n",
        "          pass\n",
        "\n",
        "        ax_hist.ticklabel_format(axis='y', style='scientific', scilimits=(0, 0))\n",
        "        ax_hist.set_xlabel('Pixel intensity')\n",
        "        ax_hist.set_xlim(0, 1)\n",
        "        ax_hist.set_yticks([])\n",
        "    \n",
        "def export_img(name, img):\n",
        "    pil_img = Image.fromarray(np.uint8(img*255))\n",
        "    pil_img.save(name)\n",
        "\n",
        "def preview_save(img, ty, size=10, hist=False):\n",
        "    print('Generating preview...')\n",
        "    plot_img_and_hist(img, ty, size, hist)\n",
        "    plt.show()\n",
        "    print('Saving image...')\n",
        "    export_img('{}.png'.format(p), img)\n",
        "\n",
        "def truncate(filename): # Trim filenames for less cluttered message printouts\n",
        "    trimmed_name = filename.split('_')[2][0:-4] + '_' + filename.split('_')[5]\n",
        "    return trimmed_name"
      ],
      "execution_count": null,
      "outputs": []
    },
    {
      "cell_type": "code",
      "execution_count": 31,
      "metadata": {},
      "outputs": [],
      "source": [
        "directory = 'C:/Users/Darren Wu/Desktop/SpaceInfos/2021/CE4Ro-PCAM\\cedownload-CE4ROLL-CE4-PCAML-C-2B-2019-08'\n",
        "os.chdir(directory)\n",
        "p = []\n",
        "for filename in glob.glob('*.2BL'):\n",
        "    p.append(filename)"
      ]
    },
    {
      "cell_type": "code",
      "metadata": {
        "colab": {
          "base_uri": "https://localhost:8080/",
          "height": 425
        },
        "id": "yEDjY_gCjvcY",
        "outputId": "0b96f4b3-4a28-430c-e32a-e48c6d1fefce",
        "tags": []
      },
      "source": [
        "for filename in p:\n",
        "    img = read_pds(filename)\n",
        "    ty = check_type(filename)\n",
        "\n",
        "    print('Processing and exporting file', p.index(filename)+1, truncate(filename), end=' ')\n",
        "    \n",
        "    if ty == 'C':\n",
        "        img = debayer_img(img)\n",
        "        img = img.astype('float32')\n",
        "        tonemap1 = cv.createTonemapMantiuk(gamma=1, scale=0.8, saturation=1)\n",
        "        img = tonemap1.process(img)\n",
        "\n",
        "    img = stretch_img(img)\n",
        "\n",
        "    export_img('{}.png'.format(truncate(filename)), img)\n",
        "    print('DONE')\n",
        "    "
      ],
      "execution_count": 32,
      "outputs": [
        {
          "output_type": "stream",
          "name": "stdout",
          "text": [
            "Processing and exporting file 1 PCAML-C_20190729011859 DONE\n",
            "Processing and exporting file 2 PCAML-C_20190806113452 DONE\n",
            "Processing and exporting file 3 PCAML-C_20190729012018 DONE\n",
            "Processing and exporting file 4 PCAML-C_20190806113621 DONE\n",
            "Processing and exporting file 5 PCAML-C_20190729012137 DONE\n",
            "Processing and exporting file 6 PCAML-C_20190806113750 DONE\n",
            "Processing and exporting file 7 PCAML-C_20190729012354 DONE\n",
            "Processing and exporting file 8 PCAML-C_20190806114022 DONE\n",
            "Processing and exporting file 9 PCAML-C_20190729012513 DONE\n",
            "Processing and exporting file 10 PCAML-C_20190806114151 DONE\n",
            "Processing and exporting file 11 PCAML-C_20190729012632 DONE\n",
            "Processing and exporting file 12 PCAML-C_20190806114320 DONE\n"
          ]
        }
      ]
    },
    {
      "cell_type": "code",
      "execution_count": null,
      "metadata": {},
      "outputs": [],
      "source": []
    }
  ]
}
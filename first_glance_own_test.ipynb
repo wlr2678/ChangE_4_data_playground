{
  "nbformat": 4,
  "nbformat_minor": 0,
  "metadata": {
    "colab": {
      "name": "first_glance_own_test.ipynb",
      "provenance": [],
      "collapsed_sections": [],
      "authorship_tag": "ABX9TyPWgdw+xd4xjzGnEjmQO7IV",
      "include_colab_link": true
    },
    "kernelspec": {
      "name": "python3",
      "display_name": "Python 3"
    },
    "language_info": {
      "name": "python"
    }
  },
  "cells": [
    {
      "cell_type": "markdown",
      "metadata": {
        "id": "view-in-github",
        "colab_type": "text"
      },
      "source": [
        "<a href=\"https://colab.research.google.com/github/wlr2678/ChangE_4_data_playground/blob/master/first_glance_own_test.ipynb\" target=\"_parent\"><img src=\"https://colab.research.google.com/assets/colab-badge.svg\" alt=\"Open In Colab\"/></a>"
      ]
    },
    {
      "cell_type": "code",
      "metadata": {
        "id": "FtZdLumu0LdL"
      },
      "source": [
        "# Install a pip package in the current Jupyter kernel\n",
        "import sys\n",
        "!{sys.executable} -m pip install pds4_tools\n",
        "!{sys.executable} -m pip install matplotlib\n",
        "!{sys.executable} -m pip install numpy\n",
        "!{sys.executable} -m pip install Pillow\n",
        "!{sys.executable} -m pip install colour-science\n",
        "!{sys.executable} -m pip install colour-demosaicing"
      ],
      "execution_count": null,
      "outputs": []
    },
    {
      "cell_type": "code",
      "metadata": {
        "id": "17zFSVC796Nx"
      },
      "source": [
        "from pds4_tools import pds4_read       # to read and inspect the data and metadata\n",
        "import matplotlib.pyplot as plt        # for plotting\n",
        "import matplotlib\n",
        "import numpy as np\n",
        "from PIL import Image\n",
        "\n",
        "import cv2 as cv # HDR tonemapping trial\n",
        "\n",
        "# for plotting in Jupyter notebooks\n",
        "# %matplotlib notebook\n",
        "# for plotting in Google Colab, inline with the cell outputs\n",
        "%matplotlib inline\n",
        "\n",
        "from skimage import exposure\n",
        "from skimage import data, img_as_float\n",
        "import colour\n",
        "from colour.plotting import *\n",
        "import glob\n",
        "\n",
        "from colour_demosaicing import (\n",
        "    demosaicing_CFA_Bayer_bilinear,\n",
        "    demosaicing_CFA_Bayer_Malvar2004,\n",
        "    demosaicing_CFA_Bayer_Menon2007,\n",
        "    mosaicing_CFA_Bayer)\n",
        "\n",
        "cctf_encoding = colour.cctf_encoding\n",
        "_ = colour.utilities.filter_warnings()\n",
        "# colour.utilities.describe_environment();"
      ],
      "execution_count": null,
      "outputs": []
    },
    {
      "cell_type": "code",
      "metadata": {
        "id": "Ap5xVwsT96N1"
      },
      "source": [
        "def read_pds(path):\n",
        "    data = pds4_read(path, quiet=True)\n",
        "    img = np.array(data[0].data)\n",
        "    img = img / 1023\n",
        "    # img = img_as_float(img)\n",
        "    return img"
      ],
      "execution_count": null,
      "outputs": []
    },
    {
      "cell_type": "code",
      "metadata": {
        "id": "w2MqbJ-C96N2"
      },
      "source": [
        "def debayer_img(img, CFA='RGGB'):\n",
        "    # Menon2007 yields better edges than bilinear\n",
        "    debayered = cctf_encoding(demosaicing_CFA_Bayer_bilinear(img, CFA))\n",
        "    return debayered"
      ],
      "execution_count": null,
      "outputs": []
    },
    {
      "cell_type": "code",
      "metadata": {
        "id": "kqR7xAIJ96N2"
      },
      "source": [
        "def stretch_img(img):\n",
        "    # cf https://www.harrisgeospatial.com/docs/BackgroundStretchTypes.html\n",
        "    # this is a 2 percent linear stretch\n",
        "    p2, p98 = np.percentile(img, (2, 98))\n",
        "    img = exposure.rescale_intensity(img, in_range=(p2, p98))\n",
        "    return img"
      ],
      "execution_count": null,
      "outputs": []
    },
    {
      "cell_type": "code",
      "metadata": {
        "id": "brzUNvYl96N2"
      },
      "source": [
        "def plot_img_and_hist(image, ty='Q', size=10,  hist=True, bins=128): # ty indicates the type of the data product\n",
        "    \"\"\"Plot an image along with its histogram.\n",
        "    \"\"\"\n",
        "    if hist:\n",
        "        fig, axes = plt.subplots(2,1, figsize=(size,size), gridspec_kw={'height_ratios': [3, 1]})\n",
        "        ax_img, ax_hist = axes\n",
        "    else:\n",
        "        fig, ax_img = plt.subplots(figsize=(size,size))\n",
        "\n",
        "    # Display image\n",
        "    ax_img.imshow(image, cmap='gray')\n",
        "    ax_img.set_axis_off()\n",
        "\n",
        "    if hist:\n",
        "        # Display histogram\n",
        "        if ty == 'Q': # Panchromatic\n",
        "          ax_hist.hist(image[:,:].ravel(), bins=bins, histtype='step', color='black')\n",
        "        elif ty == 'C': # Colour\n",
        "          ax_hist.hist(image[:,:,0].ravel(), bins=bins, histtype='step', color='red')\n",
        "          ax_hist.hist(image[:,:,1].ravel(), bins=bins, histtype='step', color='green')\n",
        "          ax_hist.hist(image[:,:,2].ravel(), bins=bins, histtype='step', color='blue')\n",
        "        else: # Unknown type\n",
        "          print('Image data type not recognized')\n",
        "          pass\n",
        "\n",
        "        ax_hist.ticklabel_format(axis='y', style='scientific', scilimits=(0, 0))\n",
        "        ax_hist.set_xlabel('Pixel intensity')\n",
        "        ax_hist.set_xlim(0, 1)\n",
        "        ax_hist.set_yticks([])"
      ],
      "execution_count": null,
      "outputs": []
    },
    {
      "cell_type": "code",
      "metadata": {
        "id": "9GrfQ2dzmhG0"
      },
      "source": [
        "  def check_type(p): # Check PCAM image type\n",
        "    ty = p.split('_')[2].split('-')[1]\n",
        "    print(\"Image type is:\", ty)\n",
        "    return ty"
      ],
      "execution_count": null,
      "outputs": []
    },
    {
      "cell_type": "code",
      "metadata": {
        "id": "b4CuauXMsl-9"
      },
      "source": [
        "def export_img(name, img):\n",
        "    pil_img = Image.fromarray(np.uint8(img*255))\n",
        "    pil_img.save(name)\n",
        "    print('Image exported.')"
      ],
      "execution_count": null,
      "outputs": []
    },
    {
      "cell_type": "code",
      "metadata": {
        "id": "_dP5xRvceikD"
      },
      "source": [
        "def preview_save(img, ty, size=10, hist=False):\n",
        "  print('Generating preview...')\n",
        "  plot_img_and_hist(img, ty, size, hist)\n",
        "  plt.show()\n",
        "  print('Saving image...')\n",
        "  export_img('{}.png'.format(p), img)"
      ],
      "execution_count": null,
      "outputs": []
    },
    {
      "cell_type": "code",
      "metadata": {
        "colab": {
          "base_uri": "https://localhost:8080/",
          "height": 425
        },
        "id": "yEDjY_gCjvcY",
        "outputId": "0b96f4b3-4a28-430c-e32a-e48c6d1fefce"
      },
      "source": [
        "p = '/content/CE4_GRAS_PCAMR-C-001_SCI_N_20190104041621_20190104041621_0001_B.2BL'\n",
        "img = read_pds(p)\n",
        "print(\"Image size is:\", img.shape)\n",
        "ty = check_type(p)\n",
        "if ty is 'C':\n",
        "  img = debayer_img(img)\n",
        "# img = stretch_img(img)\n",
        "print(img[0])\n",
        "''' # Export an inspection of pixels in the first row of the image\n",
        "inspection = open('inspection.txt', 'w')\n",
        "for pixel in img[0]:\n",
        "  inspection.write(str(pixel))\n",
        "inspection.close()\n",
        "'''\n",
        "print('Generating preview...')\n",
        "# plot_img_and_hist(img, ty, 10, True)\n",
        "# plt.show()\n",
        "print(img[0])\n",
        "preview_save(img, ty, 10, True)"
      ],
      "execution_count": null,
      "outputs": [
        {
          "output_type": "error",
          "ename": "OSError",
          "evalue": "ignored",
          "traceback": [
            "\u001b[0;31m---------------------------------------------------------------------------\u001b[0m",
            "\u001b[0;31mFileNotFoundError\u001b[0m                         Traceback (most recent call last)",
            "\u001b[0;32m/usr/local/lib/python3.7/dist-packages/pds4_tools/reader/read_label.py\u001b[0m in \u001b[0;36mread_label\u001b[0;34m(filename, strip_extra_whitespace, enforce_default_prefixes, include_namespace_map, decode_py2)\u001b[0m\n\u001b[1;32m     57\u001b[0m     \u001b[0;32mtry\u001b[0m\u001b[0;34m:\u001b[0m\u001b[0;34m\u001b[0m\u001b[0;34m\u001b[0m\u001b[0m\n\u001b[0;32m---> 58\u001b[0;31m         \u001b[0mxml_tree\u001b[0m \u001b[0;34m=\u001b[0m \u001b[0mET\u001b[0m\u001b[0;34m.\u001b[0m\u001b[0miterparse\u001b[0m\u001b[0;34m(\u001b[0m\u001b[0mfilename\u001b[0m\u001b[0;34m,\u001b[0m \u001b[0mevents\u001b[0m\u001b[0;34m=\u001b[0m\u001b[0;34m(\u001b[0m\u001b[0;34m'start-ns'\u001b[0m\u001b[0;34m,\u001b[0m \u001b[0;34m'end'\u001b[0m\u001b[0;34m)\u001b[0m\u001b[0;34m)\u001b[0m\u001b[0;34m\u001b[0m\u001b[0;34m\u001b[0m\u001b[0m\n\u001b[0m\u001b[1;32m     59\u001b[0m     \u001b[0;32mexcept\u001b[0m \u001b[0mIOError\u001b[0m\u001b[0;34m:\u001b[0m\u001b[0;34m\u001b[0m\u001b[0;34m\u001b[0m\u001b[0m\n",
            "\u001b[0;32m/usr/lib/python3.7/xml/etree/ElementTree.py\u001b[0m in \u001b[0;36miterparse\u001b[0;34m(source, events, parser)\u001b[0m\n\u001b[1;32m   1242\u001b[0m     \u001b[0;32mif\u001b[0m \u001b[0;32mnot\u001b[0m \u001b[0mhasattr\u001b[0m\u001b[0;34m(\u001b[0m\u001b[0msource\u001b[0m\u001b[0;34m,\u001b[0m \u001b[0;34m\"read\"\u001b[0m\u001b[0;34m)\u001b[0m\u001b[0;34m:\u001b[0m\u001b[0;34m\u001b[0m\u001b[0;34m\u001b[0m\u001b[0m\n\u001b[0;32m-> 1243\u001b[0;31m         \u001b[0msource\u001b[0m \u001b[0;34m=\u001b[0m \u001b[0mopen\u001b[0m\u001b[0;34m(\u001b[0m\u001b[0msource\u001b[0m\u001b[0;34m,\u001b[0m \u001b[0;34m\"rb\"\u001b[0m\u001b[0;34m)\u001b[0m\u001b[0;34m\u001b[0m\u001b[0;34m\u001b[0m\u001b[0m\n\u001b[0m\u001b[1;32m   1244\u001b[0m         \u001b[0mclose_source\u001b[0m \u001b[0;34m=\u001b[0m \u001b[0;32mTrue\u001b[0m\u001b[0;34m\u001b[0m\u001b[0;34m\u001b[0m\u001b[0m\n",
            "\u001b[0;31mFileNotFoundError\u001b[0m: [Errno 2] No such file or directory: '/content/CE4_GRAS_PCAMR-C-001_SCI_N_20190104041621_20190104041621_0001_B.2BL'",
            "\nDuring handling of the above exception, another exception occurred:\n",
            "\u001b[0;31mOSError\u001b[0m                                   Traceback (most recent call last)",
            "\u001b[0;32m<ipython-input-13-853cd30be83c>\u001b[0m in \u001b[0;36m<module>\u001b[0;34m()\u001b[0m\n\u001b[1;32m      1\u001b[0m \u001b[0mp\u001b[0m \u001b[0;34m=\u001b[0m \u001b[0;34m'/content/CE4_GRAS_PCAMR-C-001_SCI_N_20190104041621_20190104041621_0001_B.2BL'\u001b[0m\u001b[0;34m\u001b[0m\u001b[0;34m\u001b[0m\u001b[0m\n\u001b[0;32m----> 2\u001b[0;31m \u001b[0mimg\u001b[0m \u001b[0;34m=\u001b[0m \u001b[0mread_pds\u001b[0m\u001b[0;34m(\u001b[0m\u001b[0mp\u001b[0m\u001b[0;34m)\u001b[0m\u001b[0;34m\u001b[0m\u001b[0;34m\u001b[0m\u001b[0m\n\u001b[0m\u001b[1;32m      3\u001b[0m \u001b[0mprint\u001b[0m\u001b[0;34m(\u001b[0m\u001b[0;34m\"Image size is:\"\u001b[0m\u001b[0;34m,\u001b[0m \u001b[0mimg\u001b[0m\u001b[0;34m.\u001b[0m\u001b[0mshape\u001b[0m\u001b[0;34m)\u001b[0m\u001b[0;34m\u001b[0m\u001b[0;34m\u001b[0m\u001b[0m\n\u001b[1;32m      4\u001b[0m \u001b[0mty\u001b[0m \u001b[0;34m=\u001b[0m \u001b[0mcheck_type\u001b[0m\u001b[0;34m(\u001b[0m\u001b[0mp\u001b[0m\u001b[0;34m)\u001b[0m\u001b[0;34m\u001b[0m\u001b[0;34m\u001b[0m\u001b[0m\n\u001b[1;32m      5\u001b[0m \u001b[0;32mif\u001b[0m \u001b[0mty\u001b[0m \u001b[0;32mis\u001b[0m \u001b[0;34m'C'\u001b[0m\u001b[0;34m:\u001b[0m\u001b[0;34m\u001b[0m\u001b[0;34m\u001b[0m\u001b[0m\n",
            "\u001b[0;32m<ipython-input-6-6d7c53da75b0>\u001b[0m in \u001b[0;36mread_pds\u001b[0;34m(path)\u001b[0m\n\u001b[1;32m      1\u001b[0m \u001b[0;32mdef\u001b[0m \u001b[0mread_pds\u001b[0m\u001b[0;34m(\u001b[0m\u001b[0mpath\u001b[0m\u001b[0;34m)\u001b[0m\u001b[0;34m:\u001b[0m\u001b[0;34m\u001b[0m\u001b[0;34m\u001b[0m\u001b[0m\n\u001b[0;32m----> 2\u001b[0;31m     \u001b[0mdata\u001b[0m \u001b[0;34m=\u001b[0m \u001b[0mpds4_read\u001b[0m\u001b[0;34m(\u001b[0m\u001b[0mpath\u001b[0m\u001b[0;34m,\u001b[0m \u001b[0mquiet\u001b[0m\u001b[0;34m=\u001b[0m\u001b[0;32mTrue\u001b[0m\u001b[0;34m)\u001b[0m\u001b[0;34m\u001b[0m\u001b[0;34m\u001b[0m\u001b[0m\n\u001b[0m\u001b[1;32m      3\u001b[0m     \u001b[0mimg\u001b[0m \u001b[0;34m=\u001b[0m \u001b[0mnp\u001b[0m\u001b[0;34m.\u001b[0m\u001b[0marray\u001b[0m\u001b[0;34m(\u001b[0m\u001b[0mdata\u001b[0m\u001b[0;34m[\u001b[0m\u001b[0;36m0\u001b[0m\u001b[0;34m]\u001b[0m\u001b[0;34m.\u001b[0m\u001b[0mdata\u001b[0m\u001b[0;34m)\u001b[0m\u001b[0;34m\u001b[0m\u001b[0;34m\u001b[0m\u001b[0m\n\u001b[1;32m      4\u001b[0m     \u001b[0mimg\u001b[0m \u001b[0;34m=\u001b[0m \u001b[0mimg\u001b[0m \u001b[0;34m/\u001b[0m \u001b[0;36m1023\u001b[0m\u001b[0;34m\u001b[0m\u001b[0;34m\u001b[0m\u001b[0m\n\u001b[1;32m      5\u001b[0m     \u001b[0;31m# img = img_as_float(img)\u001b[0m\u001b[0;34m\u001b[0m\u001b[0;34m\u001b[0m\u001b[0;34m\u001b[0m\u001b[0m\n",
            "\u001b[0;32m/usr/local/lib/python3.7/dist-packages/pds4_tools/reader/core.py\u001b[0m in \u001b[0;36mpds4_read\u001b[0;34m(filename, quiet, lazy_load, no_scale, decode_strings)\u001b[0m\n\u001b[1;32m    189\u001b[0m     \u001b[0mlogger\u001b[0m\u001b[0;34m.\u001b[0m\u001b[0minfo\u001b[0m\u001b[0;34m(\u001b[0m\u001b[0;34m'Processing label: '\u001b[0m \u001b[0;34m+\u001b[0m \u001b[0mfilename\u001b[0m\u001b[0;34m)\u001b[0m\u001b[0;34m\u001b[0m\u001b[0;34m\u001b[0m\u001b[0m\n\u001b[1;32m    190\u001b[0m     \u001b[0mreified_filename\u001b[0m \u001b[0;34m=\u001b[0m \u001b[0mdownload_file\u001b[0m\u001b[0;34m(\u001b[0m\u001b[0mfilename\u001b[0m\u001b[0;34m)\u001b[0m \u001b[0;32mif\u001b[0m \u001b[0mis_supported_url\u001b[0m\u001b[0;34m(\u001b[0m\u001b[0mfilename\u001b[0m\u001b[0;34m)\u001b[0m \u001b[0;32melse\u001b[0m \u001b[0mfilename\u001b[0m\u001b[0;34m\u001b[0m\u001b[0;34m\u001b[0m\u001b[0m\n\u001b[0;32m--> 191\u001b[0;31m     \u001b[0mlabel\u001b[0m \u001b[0;34m=\u001b[0m \u001b[0mLabel\u001b[0m\u001b[0;34m.\u001b[0m\u001b[0mfrom_file\u001b[0m\u001b[0;34m(\u001b[0m\u001b[0mreified_filename\u001b[0m\u001b[0;34m)\u001b[0m\u001b[0;34m\u001b[0m\u001b[0;34m\u001b[0m\u001b[0m\n\u001b[0m\u001b[1;32m    192\u001b[0m \u001b[0;34m\u001b[0m\u001b[0m\n\u001b[1;32m    193\u001b[0m     \u001b[0;31m# Read and extract all the PDS4 data structures specified in this label\u001b[0m\u001b[0;34m\u001b[0m\u001b[0;34m\u001b[0m\u001b[0;34m\u001b[0m\u001b[0m\n",
            "\u001b[0;32m/usr/local/lib/python3.7/dist-packages/pds4_tools/reader/label_objects.py\u001b[0m in \u001b[0;36mfrom_file\u001b[0;34m(cls, filename, default_root)\u001b[0m\n\u001b[1;32m    155\u001b[0m         convenient_root, convenient_namespace_map = read_label(filename,\n\u001b[1;32m    156\u001b[0m                                             \u001b[0mstrip_extra_whitespace\u001b[0m\u001b[0;34m=\u001b[0m\u001b[0;32mTrue\u001b[0m\u001b[0;34m,\u001b[0m \u001b[0menforce_default_prefixes\u001b[0m\u001b[0;34m=\u001b[0m\u001b[0;32mTrue\u001b[0m\u001b[0;34m,\u001b[0m\u001b[0;34m\u001b[0m\u001b[0;34m\u001b[0m\u001b[0m\n\u001b[0;32m--> 157\u001b[0;31m                                             include_namespace_map=True, decode_py2=True)\n\u001b[0m\u001b[1;32m    158\u001b[0m \u001b[0;34m\u001b[0m\u001b[0m\n\u001b[1;32m    159\u001b[0m         unmodified_root, unmodified_namespace_map = read_label(filename,\n",
            "\u001b[0;32m/usr/local/lib/python3.7/dist-packages/pds4_tools/reader/read_label.py\u001b[0m in \u001b[0;36mread_label\u001b[0;34m(filename, strip_extra_whitespace, enforce_default_prefixes, include_namespace_map, decode_py2)\u001b[0m\n\u001b[1;32m     58\u001b[0m         \u001b[0mxml_tree\u001b[0m \u001b[0;34m=\u001b[0m \u001b[0mET\u001b[0m\u001b[0;34m.\u001b[0m\u001b[0miterparse\u001b[0m\u001b[0;34m(\u001b[0m\u001b[0mfilename\u001b[0m\u001b[0;34m,\u001b[0m \u001b[0mevents\u001b[0m\u001b[0;34m=\u001b[0m\u001b[0;34m(\u001b[0m\u001b[0;34m'start-ns'\u001b[0m\u001b[0;34m,\u001b[0m \u001b[0;34m'end'\u001b[0m\u001b[0;34m)\u001b[0m\u001b[0;34m)\u001b[0m\u001b[0;34m\u001b[0m\u001b[0;34m\u001b[0m\u001b[0m\n\u001b[1;32m     59\u001b[0m     \u001b[0;32mexcept\u001b[0m \u001b[0mIOError\u001b[0m\u001b[0;34m:\u001b[0m\u001b[0;34m\u001b[0m\u001b[0;34m\u001b[0m\u001b[0m\n\u001b[0;32m---> 60\u001b[0;31m         \u001b[0;32mraise\u001b[0m \u001b[0mIOError\u001b[0m\u001b[0;34m(\u001b[0m\u001b[0;34m'Unable to locate or read label file: '\u001b[0m \u001b[0;34m+\u001b[0m \u001b[0mfilename\u001b[0m\u001b[0;34m)\u001b[0m\u001b[0;34m\u001b[0m\u001b[0;34m\u001b[0m\u001b[0m\n\u001b[0m\u001b[1;32m     61\u001b[0m \u001b[0;34m\u001b[0m\u001b[0m\n\u001b[1;32m     62\u001b[0m     \u001b[0;31m# Adjust XML tree\u001b[0m\u001b[0;34m\u001b[0m\u001b[0;34m\u001b[0m\u001b[0;34m\u001b[0m\u001b[0m\n",
            "\u001b[0;31mOSError\u001b[0m: Unable to locate or read label file: /content/CE4_GRAS_PCAMR-C-001_SCI_N_20190104041621_20190104041621_0001_B.2BL"
          ]
        }
      ]
    }
  ]
}